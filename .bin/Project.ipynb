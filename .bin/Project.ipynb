{
 "cells": [
  {
   "cell_type": "markdown",
   "id": "0b074af6",
   "metadata": {},
   "source": [
    "# CSC-446 Project"
   ]
  },
  {
   "cell_type": "code",
   "execution_count": null,
   "id": "701c3a5f",
   "metadata": {
    "vscode": {
     "languageId": "plaintext"
    }
   },
   "outputs": [],
   "source": []
  }
 ],
 "metadata": {
  "language_info": {
   "name": "python"
  }
 },
 "nbformat": 4,
 "nbformat_minor": 5
}
